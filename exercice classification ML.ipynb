{
 "cells": [
  {
   "cell_type": "code",
   "execution_count": 152,
   "id": "5e3db9d1-3f20-46b9-8a75-e15d4f5e63a3",
   "metadata": {},
   "outputs": [],
   "source": [
    "using CSV\n",
    "using DataFrames\n",
    "using MLJ"
   ]
  },
  {
   "cell_type": "code",
   "execution_count": 153,
   "id": "c92c9a71-db96-4eb6-8a9c-97378b5d6684",
   "metadata": {},
   "outputs": [
    {
     "data": {
      "text/plain": [
       "(2918, 9)"
      ]
     },
     "execution_count": 153,
     "metadata": {},
     "output_type": "execute_result"
    }
   ],
   "source": [
    "# Read the CSV file into a DataFrame\n",
    "df = CSV.read(\"megaGymDataset.csv\", DataFrame)\n",
    "\n",
    "# Display summary statistics of the DataFrame\n",
    "describe(df)\n",
    "\n",
    "# Get the number of rows and columns in the DataFrame\n",
    "nrow(df), ncol(df)"
   ]
  },
  {
   "cell_type": "code",
   "execution_count": 154,
   "id": "f04b6227-694f-4dd6-8e43-bc376893071c",
   "metadata": {},
   "outputs": [
    {
     "data": {
      "text/plain": [
       "(2918, 2)"
      ]
     },
     "execution_count": 154,
     "metadata": {},
     "output_type": "execute_result"
    }
   ],
   "source": [
    "# Select the two columns from the original DataFrame\n",
    "selected_columns = df[:, [:Title,  :BodyPart]]\n",
    "# Create a new DataFrame with the selected columns\n",
    "new_df = DataFrame(selected_columns)\n",
    "nrow(new_df), ncol(new_df)"
   ]
  },
  {
   "cell_type": "code",
   "execution_count": 155,
   "id": "05d4b8d4-a774-4d1f-904f-79033c142e6d",
   "metadata": {},
   "outputs": [
    {
     "data": {
      "text/plain": [
       "┌──────────┬──────────┬──────────┐\n",
       "│\u001b[22m names    \u001b[0m│\u001b[22m scitypes \u001b[0m│\u001b[22m types    \u001b[0m│\n",
       "├──────────┼──────────┼──────────┤\n",
       "│ Title    │ Textual  │ String   │\n",
       "│ BodyPart │ Textual  │ String15 │\n",
       "└──────────┴──────────┴──────────┘\n"
      ]
     },
     "execution_count": 155,
     "metadata": {},
     "output_type": "execute_result"
    }
   ],
   "source": [
    "schema(new_df)"
   ]
  },
  {
   "cell_type": "code",
   "execution_count": 156,
   "id": "4c4bbc82-11f3-4801-926b-21d1a0316358",
   "metadata": {},
   "outputs": [
    {
     "data": {
      "text/plain": [
       "2918-element PooledArrays.PooledVector{String15, UInt32, Vector{UInt32}}:\n",
       " \"Abdominals\"\n",
       " \"Abdominals\"\n",
       " \"Abdominals\"\n",
       " \"Abdominals\"\n",
       " \"Abdominals\"\n",
       " \"Abdominals\"\n",
       " \"Abdominals\"\n",
       " \"Abdominals\"\n",
       " \"Abdominals\"\n",
       " \"Abdominals\"\n",
       " \"Abdominals\"\n",
       " \"Abdominals\"\n",
       " \"Abdominals\"\n",
       " ⋮\n",
       " \"Triceps\"\n",
       " \"Triceps\"\n",
       " \"Triceps\"\n",
       " \"Triceps\"\n",
       " \"Triceps\"\n",
       " \"Triceps\"\n",
       " \"Triceps\"\n",
       " \"Triceps\"\n",
       " \"Triceps\"\n",
       " \"Triceps\"\n",
       " \"Triceps\"\n",
       " \"Triceps\""
      ]
     },
     "execution_count": 156,
     "metadata": {},
     "output_type": "execute_result"
    }
   ],
   "source": [
    "using Flux\n",
    "\n",
    "X = new_df.Title  # Exercise names\n",
    "y = new_df.BodyPart   # Target body parts"
   ]
  },
  {
   "cell_type": "code",
   "execution_count": 157,
   "id": "8487ad1c-a06f-40a5-8f81-b15907a0904a",
   "metadata": {},
   "outputs": [
    {
     "data": {
      "text/plain": [
       "2909-element Vector{String}:\n",
       " \"1.5-rep push-up\"\n",
       " \"3/4 sit-up\"\n",
       " \"30 Arms BFR Close-Grip Push-Up\"\n",
       " \"30 Arms BFR Dumbbell Kick-Back\"\n",
       " \"30 Arms BFR High Cable Curl\"\n",
       " \"30 Arms BFR Machine Preacher Curl\"\n",
       " \"30 Arms Barbell Skullcrusher\"\n",
       " \"30 Arms Cable Concentration Curl\"\n",
       " \"30 Arms Cable Rope Hammer Curl\"\n",
       " \"30 Arms Cable Rope Overhead Triceps Extension\"\n",
       " \"30 Arms Cable Rope Push-Down\"\n",
       " \"30 Arms Cable Straight-Bar Curl\"\n",
       " \"30 Arms Cable Straight-Bar Push-Down\"\n",
       " ⋮\n",
       " \"Wide-grip bench press\"\n",
       " \"Wide-grip hands-elevated push-up\"\n",
       " \"Windmills\"\n",
       " \"World's greatest stretch\"\n",
       " \"Wrist Circles\"\n",
       " \"Wrist Roller\"\n",
       " \"X-body V-up\"\n",
       " \"Yates Row\"\n",
       " \"Yates Row Reverse Grip\"\n",
       " \"Yoga plex\"\n",
       " \"Yoke Walk\"\n",
       " \"Zercher squat\""
      ]
     },
     "execution_count": 157,
     "metadata": {},
     "output_type": "execute_result"
    }
   ],
   "source": [
    "# Step 2: Feature Extraction\n",
    "# In this simple example, we'll use one-hot encoding for the exercise names\n",
    "X_encoded = Flux.onehotbatch(X, sort(unique(X))) |> Matrix{Float32}\n",
    "X_unique = sort(unique(X))"
   ]
  },
  {
   "cell_type": "code",
   "execution_count": 158,
   "id": "5b68e62e-ecdf-4b9f-886c-de626bc0abdb",
   "metadata": {},
   "outputs": [
    {
     "data": {
      "text/plain": [
       "2909×2918 Matrix{Float32}:\n",
       " -0.0185408  -0.0185408  -0.0185408  …  -0.0185408  -0.0185408  -0.0185408\n",
       " -0.0185408  -0.0185408  -0.0185408     -0.0185408  -0.0185408  -0.0185408\n",
       " -0.0185408  -0.0185408  -0.0185408     -0.0185408  -0.0185408  -0.0185408\n",
       " -0.0185408  -0.0185408  -0.0185408     -0.0185408  -0.0185408  -0.0185408\n",
       " -0.0185408  -0.0185408  -0.0185408     -0.0185408  -0.0185408  -0.0185408\n",
       " -0.0185408  -0.0185408  -0.0185408  …  -0.0185408  -0.0185408  -0.0185408\n",
       " -0.0185408  -0.0185408  -0.0185408     -0.0185408  -0.0185408  -0.0185408\n",
       " -0.0185408  -0.0185408  -0.0185408     -0.0185408  -0.0185408  -0.0185408\n",
       " -0.0185408  -0.0185408  -0.0185408     -0.0185408  -0.0185408  -0.0185408\n",
       " -0.0185408  -0.0185408  -0.0185408     -0.0185408  -0.0185408  -0.0185408\n",
       " -0.0185408  -0.0185408  -0.0185408  …  -0.0185408  -0.0185408  -0.0185408\n",
       " -0.0185408  -0.0185408  -0.0185408     -0.0185408  -0.0185408  -0.0185408\n",
       " -0.0185408  -0.0185408  -0.0185408     -0.0185408  -0.0185408  -0.0185408\n",
       "  ⋮                                  ⋱   ⋮                      \n",
       " -0.0185408  -0.0185408  -0.0185408     -0.0185408  -0.0185408  -0.0185408\n",
       " -0.0185408  -0.0185408  -0.0185408     -0.0185408  -0.0185408  -0.0185408\n",
       " -0.0185408  -0.0185408  -0.0185408     -0.0185408  -0.0185408  -0.0185408\n",
       " -0.0185408  -0.0185408  -0.0185408  …  -0.0185408  -0.0185408  -0.0185408\n",
       " -0.0185408  -0.0185408  -0.0185408     -0.0185408  -0.0185408  -0.0185408\n",
       " -0.0185408  -0.0185408  -0.0185408     -0.0185408  -0.0185408  -0.0185408\n",
       " -0.0185408  -0.0185408  -0.0185408     -0.0185408  -0.0185408  -0.0185408\n",
       " -0.0185408  -0.0185408  -0.0185408     -0.0185408  -0.0185408  -0.0185408\n",
       " -0.0185408  -0.0185408  -0.0185408  …  -0.0185408  -0.0185408  -0.0185408\n",
       " -0.0185408  -0.0185408  -0.0185408     -0.0185408  -0.0185408  -0.0185408\n",
       " -0.0185408  -0.0185408  -0.0185408     -0.0185408  -0.0185408  -0.0185408\n",
       " -0.0185408  -0.0185408  -0.0185408     -0.0185408  -0.0185408  -0.0185408"
      ]
     },
     "execution_count": 158,
     "metadata": {},
     "output_type": "execute_result"
    }
   ],
   "source": [
    "using Statistics\n",
    "# Standardize the input features using z-score normalization\n",
    "X_standardized = (X_encoded .- mean(X_encoded, dims=1)) ./ std(X_encoded, dims=1)\n"
   ]
  },
  {
   "cell_type": "code",
   "execution_count": 159,
   "id": "e9705e52-f923-4ad7-b110-321f06a352d0",
   "metadata": {},
   "outputs": [
    {
     "data": {
      "text/plain": [
       "2918-element Vector{Int64}:\n",
       "  1\n",
       "  1\n",
       "  1\n",
       "  1\n",
       "  1\n",
       "  1\n",
       "  1\n",
       "  1\n",
       "  1\n",
       "  1\n",
       "  1\n",
       "  1\n",
       "  1\n",
       "  ⋮\n",
       " 17\n",
       " 17\n",
       " 17\n",
       " 17\n",
       " 17\n",
       " 17\n",
       " 17\n",
       " 17\n",
       " 17\n",
       " 17\n",
       " 17\n",
       " 17"
      ]
     },
     "execution_count": 159,
     "metadata": {},
     "output_type": "execute_result"
    }
   ],
   "source": [
    "# Encode target labels as integers\n",
    "label_mapping = Dict(unique(y) .=> 1:length(unique(y)))\n",
    "y_encoded = [label_mapping[label] for label in y]"
   ]
  },
  {
   "cell_type": "code",
   "execution_count": 160,
   "id": "f4a7c8c7-1e40-4df7-86c5-24f2edaa3efa",
   "metadata": {},
   "outputs": [
    {
     "data": {
      "text/plain": [
       "582-element Vector{Tuple{SubArray{Float32, 1, Matrix{Float32}, Tuple{Int64, Base.Slice{Base.OneTo{Int64}}}, true}, Int64}}:\n",
       " ([0.0, 0.0, 0.0, 0.0, 0.0, 0.0, 0.0, 0.0, 0.0, 0.0  …  0.0, 0.0, 0.0, 0.0, 0.0, 0.0, 0.0, 0.0, 0.0, 0.0], 15)\n",
       " ([0.0, 0.0, 0.0, 0.0, 0.0, 0.0, 0.0, 0.0, 0.0, 0.0  …  0.0, 0.0, 0.0, 0.0, 0.0, 0.0, 0.0, 0.0, 0.0, 0.0], 15)\n",
       " ([0.0, 0.0, 0.0, 0.0, 0.0, 0.0, 0.0, 0.0, 0.0, 0.0  …  0.0, 0.0, 0.0, 0.0, 0.0, 0.0, 0.0, 0.0, 0.0, 0.0], 15)\n",
       " ([0.0, 0.0, 0.0, 0.0, 0.0, 0.0, 0.0, 0.0, 0.0, 0.0  …  0.0, 0.0, 0.0, 0.0, 0.0, 0.0, 0.0, 0.0, 0.0, 0.0], 15)\n",
       " ([0.0, 0.0, 0.0, 0.0, 0.0, 0.0, 0.0, 0.0, 0.0, 0.0  …  0.0, 0.0, 0.0, 0.0, 0.0, 0.0, 0.0, 0.0, 0.0, 0.0], 15)\n",
       " ([0.0, 0.0, 0.0, 0.0, 0.0, 0.0, 0.0, 0.0, 0.0, 0.0  …  0.0, 0.0, 0.0, 0.0, 0.0, 0.0, 0.0, 0.0, 0.0, 0.0], 15)\n",
       " ([0.0, 0.0, 0.0, 0.0, 0.0, 0.0, 0.0, 0.0, 0.0, 0.0  …  0.0, 0.0, 0.0, 0.0, 0.0, 0.0, 0.0, 0.0, 0.0, 0.0], 15)\n",
       " ([0.0, 0.0, 0.0, 0.0, 0.0, 0.0, 0.0, 0.0, 0.0, 0.0  …  0.0, 0.0, 0.0, 0.0, 0.0, 0.0, 0.0, 0.0, 0.0, 0.0], 15)\n",
       " ([0.0, 0.0, 0.0, 0.0, 0.0, 0.0, 0.0, 0.0, 0.0, 0.0  …  0.0, 0.0, 0.0, 0.0, 0.0, 0.0, 0.0, 0.0, 0.0, 0.0], 15)\n",
       " ([0.0, 0.0, 0.0, 0.0, 0.0, 0.0, 0.0, 0.0, 0.0, 0.0  …  0.0, 0.0, 0.0, 0.0, 0.0, 0.0, 0.0, 0.0, 0.0, 0.0], 15)\n",
       " ([0.0, 0.0, 0.0, 0.0, 0.0, 0.0, 0.0, 0.0, 0.0, 0.0  …  0.0, 0.0, 0.0, 0.0, 0.0, 0.0, 0.0, 0.0, 0.0, 0.0], 15)\n",
       " ([0.0, 0.0, 0.0, 0.0, 0.0, 0.0, 0.0, 0.0, 0.0, 0.0  …  0.0, 0.0, 0.0, 0.0, 0.0, 0.0, 0.0, 0.0, 0.0, 0.0], 15)\n",
       " ([0.0, 0.0, 0.0, 0.0, 0.0, 0.0, 0.0, 0.0, 0.0, 0.0  …  0.0, 0.0, 0.0, 0.0, 0.0, 0.0, 0.0, 0.0, 0.0, 0.0], 15)\n",
       " ⋮\n",
       " ([0.0, 0.0, 0.0, 0.0, 0.0, 0.0, 0.0, 0.0, 0.0, 0.0  …  0.0, 0.0, 0.0, 0.0, 0.0, 0.0, 0.0, 0.0, 0.0, 0.0], 17)\n",
       " ([0.0, 0.0, 0.0, 0.0, 0.0, 0.0, 0.0, 0.0, 0.0, 0.0  …  0.0, 0.0, 0.0, 0.0, 0.0, 0.0, 0.0, 0.0, 0.0, 0.0], 17)\n",
       " ([0.0, 0.0, 0.0, 0.0, 0.0, 0.0, 0.0, 0.0, 0.0, 0.0  …  0.0, 0.0, 0.0, 0.0, 0.0, 0.0, 0.0, 0.0, 0.0, 0.0], 17)\n",
       " ([0.0, 0.0, 0.0, 0.0, 0.0, 0.0, 0.0, 0.0, 0.0, 0.0  …  0.0, 0.0, 0.0, 0.0, 0.0, 0.0, 0.0, 0.0, 0.0, 0.0], 17)\n",
       " ([0.0, 0.0, 0.0, 0.0, 0.0, 0.0, 0.0, 0.0, 0.0, 0.0  …  0.0, 0.0, 0.0, 0.0, 0.0, 0.0, 0.0, 0.0, 0.0, 0.0], 17)\n",
       " ([0.0, 0.0, 0.0, 0.0, 0.0, 0.0, 0.0, 0.0, 0.0, 0.0  …  0.0, 0.0, 0.0, 0.0, 0.0, 0.0, 0.0, 0.0, 0.0, 0.0], 17)\n",
       " ([0.0, 0.0, 0.0, 0.0, 0.0, 0.0, 0.0, 0.0, 0.0, 0.0  …  0.0, 0.0, 0.0, 0.0, 0.0, 0.0, 0.0, 0.0, 0.0, 0.0], 17)\n",
       " ([0.0, 0.0, 0.0, 0.0, 0.0, 0.0, 0.0, 0.0, 0.0, 0.0  …  0.0, 0.0, 0.0, 0.0, 0.0, 0.0, 0.0, 0.0, 0.0, 0.0], 17)\n",
       " ([0.0, 0.0, 0.0, 0.0, 0.0, 0.0, 0.0, 0.0, 0.0, 0.0  …  0.0, 0.0, 0.0, 0.0, 0.0, 0.0, 0.0, 0.0, 0.0, 0.0], 17)\n",
       " ([0.0, 0.0, 0.0, 0.0, 0.0, 0.0, 0.0, 0.0, 0.0, 0.0  …  0.0, 0.0, 0.0, 0.0, 0.0, 0.0, 0.0, 0.0, 0.0, 0.0], 17)\n",
       " ([0.0, 0.0, 0.0, 0.0, 0.0, 0.0, 0.0, 0.0, 0.0, 0.0  …  0.0, 0.0, 0.0, 0.0, 0.0, 0.0, 0.0, 0.0, 0.0, 0.0], 17)\n",
       " ([0.0, 0.0, 0.0, 0.0, 0.0, 0.0, 0.0, 0.0, 0.0, 0.0  …  0.0, 0.0, 0.0, 0.0, 0.0, 0.0, 0.0, 0.0, 0.0, 0.0], 17)"
      ]
     },
     "execution_count": 160,
     "metadata": {},
     "output_type": "execute_result"
    }
   ],
   "source": [
    "# Step 3: Model Training\n",
    "# Split the data into training and testing sets\n",
    "data = [(x, y) for (x, y) in zip(eachrow(X_encoded), y_encoded)]\n",
    "train_size = Int(round(length(data) * 0.8))\n",
    "train_data = data[1:train_size]\n",
    "test_data = data[train_size+1:end]"
   ]
  },
  {
   "cell_type": "code",
   "execution_count": 176,
   "id": "6fbb1445-7f61-49a9-b2ec-e2ae8478e09b",
   "metadata": {},
   "outputs": [
    {
     "data": {
      "text/plain": [
       "Chain(\n",
       "  Dense(2918 => 64, relu),              \u001b[90m# 186_816 parameters\u001b[39m\n",
       "  Dense(64 => 32, relu),                \u001b[90m# 2_080 parameters\u001b[39m\n",
       "  Dense(32 => 17),                      \u001b[90m# 561 parameters\u001b[39m\n",
       ") \u001b[90m                  # Total: 6 arrays, \u001b[39m189_457 parameters, 740.441 KiB."
      ]
     },
     "execution_count": 176,
     "metadata": {},
     "output_type": "execute_result"
    }
   ],
   "source": [
    "# Define the model architecture\n",
    "input_size = size(X_encoded, 2)\n",
    "model = Chain(\n",
    "    Dense(input_size, 64, relu),\n",
    "    Dense(64, 32, relu),\n",
    "    Dense(32, length(label_mapping))\n",
    ")"
   ]
  },
  {
   "cell_type": "code",
   "execution_count": 177,
   "id": "f9c195a7-dd28-4fc7-9013-f880591ab866",
   "metadata": {},
   "outputs": [
    {
     "data": {
      "text/plain": [
       "Adam(0.001, (0.9, 0.999), 1.0e-8, IdDict{Any, Any}())"
      ]
     },
     "execution_count": 177,
     "metadata": {},
     "output_type": "execute_result"
    }
   ],
   "source": [
    "# Define the loss function\n",
    "loss(x, y) = Flux.crossentropy(softmax(model(x)), Flux.onehotbatch(y, 1:length(label_mapping)))\n",
    "# Define the optimizer\n",
    "optimizer = Flux.ADAM()"
   ]
  },
  {
   "cell_type": "code",
   "execution_count": 178,
   "id": "5af57f22-3e66-4e96-97f4-98ee0e757515",
   "metadata": {},
   "outputs": [],
   "source": [
    "# Train the model\n",
    "for epoch in 1:10\n",
    "    Flux.train!(loss, Flux.params(model), train_data, optimizer)\n",
    "end"
   ]
  },
  {
   "cell_type": "code",
   "execution_count": 179,
   "id": "5f821022-1795-41da-8015-2a14e3ea9d38",
   "metadata": {},
   "outputs": [
    {
     "data": {
      "text/plain": [
       "582-element Vector{Int64}:\n",
       "   1\n",
       "   2\n",
       "   3\n",
       "   4\n",
       "   5\n",
       "   6\n",
       "   7\n",
       "   8\n",
       "   9\n",
       "  10\n",
       "  11\n",
       "  12\n",
       "  13\n",
       "   ⋮\n",
       " 571\n",
       " 572\n",
       " 573\n",
       " 574\n",
       " 575\n",
       " 576\n",
       " 577\n",
       " 578\n",
       " 579\n",
       " 580\n",
       " 581\n",
       " 582"
      ]
     },
     "execution_count": 179,
     "metadata": {},
     "output_type": "execute_result"
    }
   ],
   "source": [
    "# Step 4: Model Evaluation\n",
    "# Make predictions on the test set\n",
    "X_test = [x for (x, _) in test_data]\n",
    "y_test = [y for (_, y) in test_data]\n",
    "y_pred = Flux.argmax(model.(X_test), dims=2)"
   ]
  },
  {
   "cell_type": "code",
   "execution_count": 180,
   "id": "e5206b2f-f9ef-4d01-b42d-8dd68b5ed332",
   "metadata": {},
   "outputs": [
    {
     "name": "stdout",
     "output_type": "stream",
     "text": [
      "Accuracy: 1.0\n"
     ]
    }
   ],
   "source": [
    "# Calculate accuracy\n",
    "accuracy = sum(y_pred .== reshape(y_test, :)') / length(y_test)\n",
    "\n",
    "println(\"Accuracy: $accuracy\")"
   ]
  },
  {
   "cell_type": "code",
   "execution_count": 181,
   "id": "da6ca63c-1a36-4572-892f-2cb4d680a379",
   "metadata": {},
   "outputs": [
    {
     "name": "stdout",
     "output_type": "stream",
     "text": [
      "Dimension of X_encoded: (2909, 2918)\n",
      "Dimension of X_standardized: (2909, 2918)\n"
     ]
    }
   ],
   "source": [
    "println(\"Dimension of X_encoded: \", size(X_encoded))\n",
    "println(\"Dimension of X_standardized: \", size(X_standardized))\n"
   ]
  },
  {
   "cell_type": "code",
   "execution_count": 182,
   "id": "f6244796-f7f5-4ca6-868b-3dd311c04e23",
   "metadata": {},
   "outputs": [
    {
     "ename": "LoadError",
     "evalue": "DimensionMismatch: layer Dense(2918 => 64, relu) expects size(input, 1) == 2918, but got 2909×1 Matrix{Float32}",
     "output_type": "error",
     "traceback": [
      "DimensionMismatch: layer Dense(2918 => 64, relu) expects size(input, 1) == 2918, but got 2909×1 Matrix{Float32}",
      "",
      "Stacktrace:",
      " [1] _size_check(layer::Dense{typeof(relu), Matrix{Float32}, Vector{Float32}}, x::Matrix{Float32}, ::Pair{Int64, Int64})",
      "   @ Flux C:\\Users\\LENOVO\\.julia\\packages\\Flux\\EHgZm\\src\\layers\\basic.jl:195",
      " [2] (::Dense{typeof(relu), Matrix{Float32}, Vector{Float32}})(x::Matrix{Float32})",
      "   @ Flux C:\\Users\\LENOVO\\.julia\\packages\\Flux\\EHgZm\\src\\layers\\basic.jl:171",
      " [3] macro expansion",
      "   @ C:\\Users\\LENOVO\\.julia\\packages\\Flux\\EHgZm\\src\\layers\\basic.jl:53 [inlined]",
      " [4] _applychain",
      "   @ C:\\Users\\LENOVO\\.julia\\packages\\Flux\\EHgZm\\src\\layers\\basic.jl:53 [inlined]",
      " [5] (::Chain{Tuple{Dense{typeof(relu), Matrix{Float32}, Vector{Float32}}, Dense{typeof(relu), Matrix{Float32}, Vector{Float32}}, Dense{typeof(identity), Matrix{Float32}, Vector{Float32}}}})(x::Matrix{Float32})",
      "   @ Flux C:\\Users\\LENOVO\\.julia\\packages\\Flux\\EHgZm\\src\\layers\\basic.jl:51",
      " [6] top-level scope",
      "   @ In[182]:4"
     ]
    }
   ],
   "source": [
    "# Step 5: Model Deployment\n",
    "# You can now use the trained model to make predictions on new exercise names\n",
    "\n",
    "exercise_name = \"Wrist Roller\" # Example exercise name for prediction\n",
    "exercise_encoded = Flux.onehotbatch([exercise_name], sort(unique(X))) |> Matrix{Float32}\n",
    "predicted_body_part = Flux.argmax(model(exercise_encoded), dims=2)[1]\n",
    "\n",
    "inverse_label_mapping = invert(label_mapping)\n",
    "predicted_body_part_label = inverse_label_mapping[predicted_body_part]\n",
    "\n",
    "println(\"Predicted body part: $predicted_body_part_label\")"
   ]
  }
 ],
 "metadata": {
  "kernelspec": {
   "display_name": "Julia 1.8.5",
   "language": "julia",
   "name": "julia-1.8"
  },
  "language_info": {
   "file_extension": ".jl",
   "mimetype": "application/julia",
   "name": "julia",
   "version": "1.8.5"
  }
 },
 "nbformat": 4,
 "nbformat_minor": 5
}
