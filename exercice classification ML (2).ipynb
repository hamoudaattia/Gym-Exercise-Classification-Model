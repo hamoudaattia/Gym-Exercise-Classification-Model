{
 "cells": [
  {
   "cell_type": "code",
   "execution_count": 2,
   "id": "5e3db9d1-3f20-46b9-8a75-e15d4f5e63a3",
   "metadata": {},
   "outputs": [],
   "source": [
    "using CSV\n",
    "using DataFrames\n",
    "using MLJ"
   ]
  },
  {
   "cell_type": "code",
   "execution_count": 3,
   "id": "c92c9a71-db96-4eb6-8a9c-97378b5d6684",
   "metadata": {},
   "outputs": [
    {
     "data": {
      "text/html": [
       "<div><div style = \"float: left;\"><span>9×7 DataFrame</span></div><div style = \"clear: both;\"></div></div><div class = \"data-frame\" style = \"overflow-x: scroll;\"><table class = \"data-frame\" style = \"margin-bottom: 6px;\"><thead><tr class = \"header\"><th class = \"rowNumber\" style = \"font-weight: bold; text-align: right;\">Row</th><th style = \"text-align: left;\">variable</th><th style = \"text-align: left;\">mean</th><th style = \"text-align: left;\">min</th><th style = \"text-align: left;\">median</th><th style = \"text-align: left;\">max</th><th style = \"text-align: left;\">nmissing</th><th style = \"text-align: left;\">eltype</th></tr><tr class = \"subheader headerLastRow\"><th class = \"rowNumber\" style = \"font-weight: bold; text-align: right;\"></th><th title = \"Symbol\" style = \"text-align: left;\">Symbol</th><th title = \"Union{Nothing, Float64}\" style = \"text-align: left;\">Union…</th><th title = \"Any\" style = \"text-align: left;\">Any</th><th title = \"Union{Nothing, Float64}\" style = \"text-align: left;\">Union…</th><th title = \"Any\" style = \"text-align: left;\">Any</th><th title = \"Int64\" style = \"text-align: left;\">Int64</th><th title = \"Type\" style = \"text-align: left;\">Type</th></tr></thead><tbody><tr><td class = \"rowNumber\" style = \"font-weight: bold; text-align: right;\">1</td><td style = \"text-align: left;\">Column1</td><td style = \"text-align: left;\">1458.5</td><td style = \"text-align: left;\">0</td><td style = \"text-align: left;\">1458.5</td><td style = \"text-align: left;\">2917</td><td style = \"text-align: right;\">0</td><td style = \"text-align: left;\">Int64</td></tr><tr><td class = \"rowNumber\" style = \"font-weight: bold; text-align: right;\">2</td><td style = \"text-align: left;\">Title</td><td style = \"font-style: italic; text-align: left;\"></td><td style = \"text-align: left;\">1.5-rep push-up</td><td style = \"font-style: italic; text-align: left;\"></td><td style = \"text-align: left;\">Zercher squat</td><td style = \"text-align: right;\">0</td><td style = \"text-align: left;\">String</td></tr><tr><td class = \"rowNumber\" style = \"font-weight: bold; text-align: right;\">3</td><td style = \"text-align: left;\">Desc</td><td style = \"font-style: italic; text-align: left;\"></td><td style = \"text-align: left;\">Adductor self-myofascial release (SMR) is a self-administered soft-tissue treatment for the lower body, usually using a foam roller, lacrosse ball, or other &quot;trigger point&quot; massage tool. By applying pressure strategically to the adductor muscles in the inner thigh region, some people find they can cause this often painful and tight muscle to relax or &quot;release.&quot; Adductor SMR is often accompanied by SMR on the iliotibial (IT) band or glutes (TFL muscles), or by stretches that target the adductors.</td><td style = \"font-style: italic; text-align: left;\"></td><td style = \"text-align: left;\">With the reverse-grip dumbbell curl, the palms face down, not up. This unorthodox wrist position simultaneously targets the biceps while also building forearm and grip strength. The move can performed standing or seated.</td><td style = \"text-align: right;\">1550</td><td style = \"text-align: left;\">Union{Missing, String}</td></tr><tr><td class = \"rowNumber\" style = \"font-weight: bold; text-align: right;\">4</td><td style = \"text-align: left;\">Type</td><td style = \"font-style: italic; text-align: left;\"></td><td style = \"text-align: left;\">Cardio</td><td style = \"font-style: italic; text-align: left;\"></td><td style = \"text-align: left;\">Strongman</td><td style = \"text-align: right;\">0</td><td style = \"text-align: left;\">String31</td></tr><tr><td class = \"rowNumber\" style = \"font-weight: bold; text-align: right;\">5</td><td style = \"text-align: left;\">BodyPart</td><td style = \"font-style: italic; text-align: left;\"></td><td style = \"text-align: left;\">Abdominals</td><td style = \"font-style: italic; text-align: left;\"></td><td style = \"text-align: left;\">Triceps</td><td style = \"text-align: right;\">0</td><td style = \"text-align: left;\">String15</td></tr><tr><td class = \"rowNumber\" style = \"font-weight: bold; text-align: right;\">6</td><td style = \"text-align: left;\">Equipment</td><td style = \"font-style: italic; text-align: left;\"></td><td style = \"text-align: left;\">Bands</td><td style = \"font-style: italic; text-align: left;\"></td><td style = \"text-align: left;\">Other</td><td style = \"text-align: right;\">0</td><td style = \"text-align: left;\">String15</td></tr><tr><td class = \"rowNumber\" style = \"font-weight: bold; text-align: right;\">7</td><td style = \"text-align: left;\">Level</td><td style = \"font-style: italic; text-align: left;\"></td><td style = \"text-align: left;\">Beginner</td><td style = \"font-style: italic; text-align: left;\"></td><td style = \"text-align: left;\">Intermediate</td><td style = \"text-align: right;\">0</td><td style = \"text-align: left;\">String15</td></tr><tr><td class = \"rowNumber\" style = \"font-weight: bold; text-align: right;\">8</td><td style = \"text-align: left;\">Rating</td><td style = \"text-align: left;\">5.91969</td><td style = \"text-align: left;\">0.0</td><td style = \"text-align: left;\">7.9</td><td style = \"text-align: left;\">9.6</td><td style = \"text-align: right;\">1887</td><td style = \"text-align: left;\">Union{Missing, Float64}</td></tr><tr><td class = \"rowNumber\" style = \"font-weight: bold; text-align: right;\">9</td><td style = \"text-align: left;\">RatingDesc</td><td style = \"font-style: italic; text-align: left;\"></td><td style = \"text-align: left;\">Average</td><td style = \"font-style: italic; text-align: left;\"></td><td style = \"text-align: left;\">Average</td><td style = \"text-align: right;\">2056</td><td style = \"text-align: left;\">Union{Missing, String7}</td></tr></tbody></table></div>"
      ],
      "text/latex": [
       "\\begin{tabular}{r|cccc}\n",
       "\t& variable & mean & min & \\\\\n",
       "\t\\hline\n",
       "\t& Symbol & Union… & Any & \\\\\n",
       "\t\\hline\n",
       "\t1 & Column1 & 1458.5 & 0 & $\\dots$ \\\\\n",
       "\t2 & Title &  & 1.5-rep push-up & $\\dots$ \\\\\n",
       "\t3 & Desc &  & Adductor self-myofascial release (SMR) is a self-administered soft-tissue treatment for the lower body, usually using a foam roller, lacrosse ball, or other \"trigger point\" massage tool. By applying pressure strategically to the adductor muscles in the inner thigh region, some people find they can cause this often painful and tight muscle to relax or \"release.\" Adductor SMR is often accompanied by SMR on the iliotibial (IT) band or glutes (TFL muscles), or by stretches that target the adductors. & $\\dots$ \\\\\n",
       "\t4 & Type &  & Cardio & $\\dots$ \\\\\n",
       "\t5 & BodyPart &  & Abdominals & $\\dots$ \\\\\n",
       "\t6 & Equipment &  & Bands & $\\dots$ \\\\\n",
       "\t7 & Level &  & Beginner & $\\dots$ \\\\\n",
       "\t8 & Rating & 5.91969 & 0.0 & $\\dots$ \\\\\n",
       "\t9 & RatingDesc &  & Average & $\\dots$ \\\\\n",
       "\\end{tabular}\n"
      ],
      "text/plain": [
       "\u001b[1m9×7 DataFrame\u001b[0m\n",
       "\u001b[1m Row \u001b[0m│\u001b[1m variable   \u001b[0m\u001b[1m mean    \u001b[0m\u001b[1m min                               \u001b[0m\u001b[1m median \u001b[0m\u001b[1m max    \u001b[0m ⋯\n",
       "     │\u001b[90m Symbol     \u001b[0m\u001b[90m Union…  \u001b[0m\u001b[90m Any                               \u001b[0m\u001b[90m Union… \u001b[0m\u001b[90m Any    \u001b[0m ⋯\n",
       "─────┼──────────────────────────────────────────────────────────────────────────\n",
       "   1 │ Column1     1458.5   0                                  1458.5  2917    ⋯\n",
       "   2 │ Title      \u001b[90m         \u001b[0m 1.5-rep push-up                   \u001b[90m        \u001b[0m Zercher\n",
       "   3 │ Desc       \u001b[90m         \u001b[0m Adductor self-myofascial release… \u001b[90m        \u001b[0m With th\n",
       "   4 │ Type       \u001b[90m         \u001b[0m Cardio                            \u001b[90m        \u001b[0m Strongm\n",
       "   5 │ BodyPart   \u001b[90m         \u001b[0m Abdominals                        \u001b[90m        \u001b[0m Triceps ⋯\n",
       "   6 │ Equipment  \u001b[90m         \u001b[0m Bands                             \u001b[90m        \u001b[0m Other\n",
       "   7 │ Level      \u001b[90m         \u001b[0m Beginner                          \u001b[90m        \u001b[0m Interme\n",
       "   8 │ Rating      5.91969  0.0                                7.9     9.6\n",
       "   9 │ RatingDesc \u001b[90m         \u001b[0m Average                           \u001b[90m        \u001b[0m Average ⋯\n",
       "\u001b[36m                                                               3 columns omitted\u001b[0m"
      ]
     },
     "execution_count": 3,
     "metadata": {},
     "output_type": "execute_result"
    }
   ],
   "source": [
    "# Read the CSV file into a DataFrame\n",
    "df = CSV.read(\"megaGymDataset.csv\", DataFrame)\n",
    "\n",
    "# Display summary statistics of the DataFrame\n",
    "describe(df)"
   ]
  },
  {
   "cell_type": "code",
   "execution_count": 4,
   "id": "350792e5-bb67-48dc-839d-8d8cb3a5d61f",
   "metadata": {},
   "outputs": [
    {
     "data": {
      "text/plain": [
       "(2918, 9)"
      ]
     },
     "execution_count": 4,
     "metadata": {},
     "output_type": "execute_result"
    }
   ],
   "source": [
    "# Get the number of rows and columns in the DataFrame\n",
    "nrow(df), ncol(df)"
   ]
  },
  {
   "cell_type": "code",
   "execution_count": 5,
   "id": "f04b6227-694f-4dd6-8e43-bc376893071c",
   "metadata": {},
   "outputs": [
    {
     "data": {
      "text/plain": [
       "(2918, 2)"
      ]
     },
     "execution_count": 5,
     "metadata": {},
     "output_type": "execute_result"
    }
   ],
   "source": [
    "# Select the two columns from the original DataFrame\n",
    "selected_columns = df[:, [:Title,  :BodyPart]]\n",
    "# Create a new DataFrame with the selected columns\n",
    "new_df = DataFrame(selected_columns)\n",
    "nrow(new_df), ncol(new_df)"
   ]
  },
  {
   "cell_type": "code",
   "execution_count": 6,
   "id": "05d4b8d4-a774-4d1f-904f-79033c142e6d",
   "metadata": {},
   "outputs": [
    {
     "data": {
      "text/plain": [
       "┌──────────┬──────────┬──────────┐\n",
       "│\u001b[22m names    \u001b[0m│\u001b[22m scitypes \u001b[0m│\u001b[22m types    \u001b[0m│\n",
       "├──────────┼──────────┼──────────┤\n",
       "│ Title    │ Textual  │ String   │\n",
       "│ BodyPart │ Textual  │ String15 │\n",
       "└──────────┴──────────┴──────────┘\n"
      ]
     },
     "execution_count": 6,
     "metadata": {},
     "output_type": "execute_result"
    }
   ],
   "source": [
    "schema(new_df)"
   ]
  },
  {
   "cell_type": "code",
   "execution_count": 7,
   "id": "86da2070-8401-4301-9a40-0deccea6b82b",
   "metadata": {},
   "outputs": [
    {
     "data": {
      "text/html": [
       "<div><div style = \"float: left;\"><span>2909×2 DataFrame</span></div><div style = \"float: right;\"><span style = \"font-style: italic;\">2884 rows omitted</span></div><div style = \"clear: both;\"></div></div><div class = \"data-frame\" style = \"overflow-x: scroll;\"><table class = \"data-frame\" style = \"margin-bottom: 6px;\"><thead><tr class = \"header\"><th class = \"rowNumber\" style = \"font-weight: bold; text-align: right;\">Row</th><th style = \"text-align: left;\">Title</th><th style = \"text-align: left;\">BodyPart</th></tr><tr class = \"subheader headerLastRow\"><th class = \"rowNumber\" style = \"font-weight: bold; text-align: right;\"></th><th title = \"String\" style = \"text-align: left;\">String</th><th title = \"String15\" style = \"text-align: left;\">String15</th></tr></thead><tbody><tr><td class = \"rowNumber\" style = \"font-weight: bold; text-align: right;\">1</td><td style = \"text-align: left;\">Partner plank band row</td><td style = \"text-align: left;\">Abdominals</td></tr><tr><td class = \"rowNumber\" style = \"font-weight: bold; text-align: right;\">2</td><td style = \"text-align: left;\">Banded crunch isometric hold</td><td style = \"text-align: left;\">Abdominals</td></tr><tr><td class = \"rowNumber\" style = \"font-weight: bold; text-align: right;\">3</td><td style = \"text-align: left;\">FYR Banded Plank Jack</td><td style = \"text-align: left;\">Abdominals</td></tr><tr><td class = \"rowNumber\" style = \"font-weight: bold; text-align: right;\">4</td><td style = \"text-align: left;\">Banded crunch</td><td style = \"text-align: left;\">Abdominals</td></tr><tr><td class = \"rowNumber\" style = \"font-weight: bold; text-align: right;\">5</td><td style = \"text-align: left;\">Crunch</td><td style = \"text-align: left;\">Abdominals</td></tr><tr><td class = \"rowNumber\" style = \"font-weight: bold; text-align: right;\">6</td><td style = \"text-align: left;\">Decline band press sit-up</td><td style = \"text-align: left;\">Abdominals</td></tr><tr><td class = \"rowNumber\" style = \"font-weight: bold; text-align: right;\">7</td><td style = \"text-align: left;\">FYR2 Banded Frog Pump</td><td style = \"text-align: left;\">Abdominals</td></tr><tr><td class = \"rowNumber\" style = \"font-weight: bold; text-align: right;\">8</td><td style = \"text-align: left;\">Band low-to-high twist</td><td style = \"text-align: left;\">Abdominals</td></tr><tr><td class = \"rowNumber\" style = \"font-weight: bold; text-align: right;\">9</td><td style = \"text-align: left;\">Barbell roll-out</td><td style = \"text-align: left;\">Abdominals</td></tr><tr><td class = \"rowNumber\" style = \"font-weight: bold; text-align: right;\">10</td><td style = \"text-align: left;\">Barbell Ab Rollout - On Knees</td><td style = \"text-align: left;\">Abdominals</td></tr><tr><td class = \"rowNumber\" style = \"font-weight: bold; text-align: right;\">11</td><td style = \"text-align: left;\">Decline bar press sit-up</td><td style = \"text-align: left;\">Abdominals</td></tr><tr><td class = \"rowNumber\" style = \"font-weight: bold; text-align: right;\">12</td><td style = \"text-align: left;\">Bench barbell roll-out</td><td style = \"text-align: left;\">Abdominals</td></tr><tr><td class = \"rowNumber\" style = \"font-weight: bold; text-align: right;\">13</td><td style = \"text-align: left;\">Barbell Side Bend</td><td style = \"text-align: left;\">Abdominals</td></tr><tr><td style = \"text-align: right;\">&vellip;</td><td style = \"text-align: right;\">&vellip;</td><td style = \"text-align: right;\">&vellip;</td></tr><tr><td class = \"rowNumber\" style = \"font-weight: bold; text-align: right;\">2898</td><td style = \"text-align: left;\">FYR2 Triceps Push-Up</td><td style = \"text-align: left;\">Triceps</td></tr><tr><td class = \"rowNumber\" style = \"font-weight: bold; text-align: right;\">2899</td><td style = \"text-align: left;\">30 Arms Triceps Dip</td><td style = \"text-align: left;\">Triceps</td></tr><tr><td class = \"rowNumber\" style = \"font-weight: bold; text-align: right;\">2900</td><td style = \"text-align: left;\">30 Arms Close-Grip Push-Up</td><td style = \"text-align: left;\">Triceps</td></tr><tr><td class = \"rowNumber\" style = \"font-weight: bold; text-align: right;\">2901</td><td style = \"text-align: left;\">30 Arms BFR Close-Grip Push-Up</td><td style = \"text-align: left;\">Triceps</td></tr><tr><td class = \"rowNumber\" style = \"font-weight: bold; text-align: right;\">2902</td><td style = \"text-align: left;\">Supine Chest Throw</td><td style = \"text-align: left;\">Triceps</td></tr><tr><td class = \"rowNumber\" style = \"font-weight: bold; text-align: right;\">2903</td><td style = \"text-align: left;\">Decline EZ-bar skullcrusher</td><td style = \"text-align: left;\">Triceps</td></tr><tr><td class = \"rowNumber\" style = \"font-weight: bold; text-align: right;\">2904</td><td style = \"text-align: left;\">EZ-Bar Skullcrusher</td><td style = \"text-align: left;\">Triceps</td></tr><tr><td class = \"rowNumber\" style = \"font-weight: bold; text-align: right;\">2905</td><td style = \"text-align: left;\">EZ-bar skullcrusher-</td><td style = \"text-align: left;\">Triceps</td></tr><tr><td class = \"rowNumber\" style = \"font-weight: bold; text-align: right;\">2906</td><td style = \"text-align: left;\">Lying Close-Grip Barbell Triceps Press To Chin</td><td style = \"text-align: left;\">Triceps</td></tr><tr><td class = \"rowNumber\" style = \"font-weight: bold; text-align: right;\">2907</td><td style = \"text-align: left;\">EZ-Bar Skullcrusher - Gethin Variation</td><td style = \"text-align: left;\">Triceps</td></tr><tr><td class = \"rowNumber\" style = \"font-weight: bold; text-align: right;\">2908</td><td style = \"text-align: left;\">TBS Skullcrusher</td><td style = \"text-align: left;\">Triceps</td></tr><tr><td class = \"rowNumber\" style = \"font-weight: bold; text-align: right;\">2909</td><td style = \"text-align: left;\">30 Arms EZ-Bar Skullcrusher</td><td style = \"text-align: left;\">Triceps</td></tr></tbody></table></div>"
      ],
      "text/latex": [
       "\\begin{tabular}{r|cc}\n",
       "\t& Title & BodyPart\\\\\n",
       "\t\\hline\n",
       "\t& String & String15\\\\\n",
       "\t\\hline\n",
       "\t1 & Partner plank band row & Abdominals \\\\\n",
       "\t2 & Banded crunch isometric hold & Abdominals \\\\\n",
       "\t3 & FYR Banded Plank Jack & Abdominals \\\\\n",
       "\t4 & Banded crunch & Abdominals \\\\\n",
       "\t5 & Crunch & Abdominals \\\\\n",
       "\t6 & Decline band press sit-up & Abdominals \\\\\n",
       "\t7 & FYR2 Banded Frog Pump & Abdominals \\\\\n",
       "\t8 & Band low-to-high twist & Abdominals \\\\\n",
       "\t9 & Barbell roll-out & Abdominals \\\\\n",
       "\t10 & Barbell Ab Rollout - On Knees & Abdominals \\\\\n",
       "\t11 & Decline bar press sit-up & Abdominals \\\\\n",
       "\t12 & Bench barbell roll-out & Abdominals \\\\\n",
       "\t13 & Barbell Side Bend & Abdominals \\\\\n",
       "\t14 & Seated bar twist & Abdominals \\\\\n",
       "\t15 & Single-arm landmine pull and press & Abdominals \\\\\n",
       "\t16 & Barbell Ab Roll Out - Gethin Variation & Abdominals \\\\\n",
       "\t17 & 30 Barbell Floor Wiper & Abdominals \\\\\n",
       "\t18 & 30 Barbell Roll-Out & Abdominals \\\\\n",
       "\t19 & Decline plate sit-up & Abdominals \\\\\n",
       "\t20 & KV Barbell Hip Thrust & Abdominals \\\\\n",
       "\t21 & Advanced Kettlebell Windmill & Abdominals \\\\\n",
       "\t22 & Kettlebell Windmill & Abdominals \\\\\n",
       "\t23 & Kettlebell Pass Between The Legs & Abdominals \\\\\n",
       "\t24 & Kettlebell 3-point leg extension & Abdominals \\\\\n",
       "\t25 & Double Kettlebell Swing & Abdominals \\\\\n",
       "\t26 & Burpee over kettlebell & Abdominals \\\\\n",
       "\t27 & Kettlebell toe-touch & Abdominals \\\\\n",
       "\t28 & Kettlebell swing & Abdominals \\\\\n",
       "\t29 & Two-way swing & Abdominals \\\\\n",
       "\t30 & Kettlebell crab reach & Abdominals \\\\\n",
       "\t$\\dots$ & $\\dots$ & $\\dots$ \\\\\n",
       "\\end{tabular}\n"
      ],
      "text/plain": [
       "\u001b[1m2909×2 DataFrame\u001b[0m\n",
       "\u001b[1m  Row \u001b[0m│\u001b[1m Title                             \u001b[0m\u001b[1m BodyPart   \u001b[0m\n",
       "      │\u001b[90m String                            \u001b[0m\u001b[90m String15   \u001b[0m\n",
       "──────┼───────────────────────────────────────────────\n",
       "    1 │ Partner plank band row             Abdominals\n",
       "    2 │ Banded crunch isometric hold       Abdominals\n",
       "    3 │ FYR Banded Plank Jack              Abdominals\n",
       "    4 │ Banded crunch                      Abdominals\n",
       "    5 │ Crunch                             Abdominals\n",
       "    6 │ Decline band press sit-up          Abdominals\n",
       "    7 │ FYR2 Banded Frog Pump              Abdominals\n",
       "    8 │ Band low-to-high twist             Abdominals\n",
       "    9 │ Barbell roll-out                   Abdominals\n",
       "   10 │ Barbell Ab Rollout - On Knees      Abdominals\n",
       "   11 │ Decline bar press sit-up           Abdominals\n",
       "  ⋮   │                 ⋮                      ⋮\n",
       " 2900 │ 30 Arms Close-Grip Push-Up         Triceps\n",
       " 2901 │ 30 Arms BFR Close-Grip Push-Up     Triceps\n",
       " 2902 │ Supine Chest Throw                 Triceps\n",
       " 2903 │ Decline EZ-bar skullcrusher        Triceps\n",
       " 2904 │ EZ-Bar Skullcrusher                Triceps\n",
       " 2905 │ EZ-bar skullcrusher-               Triceps\n",
       " 2906 │ Lying Close-Grip Barbell Triceps…  Triceps\n",
       " 2907 │ EZ-Bar Skullcrusher - Gethin Var…  Triceps\n",
       " 2908 │ TBS Skullcrusher                   Triceps\n",
       " 2909 │ 30 Arms EZ-Bar Skullcrusher        Triceps\n",
       "\u001b[36m                                     2888 rows omitted\u001b[0m"
      ]
     },
     "execution_count": 7,
     "metadata": {},
     "output_type": "execute_result"
    }
   ],
   "source": [
    "last_df = unique(new_df; keep = :first)\n"
   ]
  },
  {
   "cell_type": "code",
   "execution_count": 8,
   "id": "0c798a01-d78d-4d6e-98b2-214df6998256",
   "metadata": {},
   "outputs": [
    {
     "data": {
      "text/plain": [
       "1:2909"
      ]
     },
     "execution_count": 8,
     "metadata": {},
     "output_type": "execute_result"
    }
   ],
   "source": [
    "using DataFrames\n",
    "# Reset the row indices of the DataFrame\n",
    "last_df[!, :index] = 1:size(last_df, 1)"
   ]
  },
  {
   "cell_type": "code",
   "execution_count": 9,
   "id": "4c4bbc82-11f3-4801-926b-21d1a0316358",
   "metadata": {},
   "outputs": [
    {
     "name": "stderr",
     "output_type": "stream",
     "text": [
      "\u001b[91m\u001b[1m┌ \u001b[22m\u001b[39m\u001b[91m\u001b[1mError: \u001b[22m\u001b[39mThis version of CUDA.jl only supports NVIDIA drivers for CUDA 11.x or higher (yours is for CUDA 7.5.0)\n",
      "\u001b[91m\u001b[1m└ \u001b[22m\u001b[39m\u001b[90m@ CUDA C:\\Users\\LENOVO\\.julia\\packages\\CUDA\\p5OVK\\src\\initialization.jl:70\u001b[39m\n"
     ]
    },
    {
     "data": {
      "text/plain": [
       "2909-element Vector{String}:\n",
       " \"Partner plank band row\"\n",
       " \"Banded crunch isometric hold\"\n",
       " \"FYR Banded Plank Jack\"\n",
       " \"Banded crunch\"\n",
       " \"Crunch\"\n",
       " \"Decline band press sit-up\"\n",
       " \"FYR2 Banded Frog Pump\"\n",
       " \"Band low-to-high twist\"\n",
       " \"Barbell roll-out\"\n",
       " \"Barbell Ab Rollout - On Knees\"\n",
       " \"Decline bar press sit-up\"\n",
       " \"Bench barbell roll-out\"\n",
       " \"Barbell Side Bend\"\n",
       " ⋮\n",
       " \"FYR2 Triceps Push-Up\"\n",
       " \"30 Arms Triceps Dip\"\n",
       " \"30 Arms Close-Grip Push-Up\"\n",
       " \"30 Arms BFR Close-Grip Push-Up\"\n",
       " \"Supine Chest Throw\"\n",
       " \"Decline EZ-bar skullcrusher\"\n",
       " \"EZ-Bar Skullcrusher\"\n",
       " \"EZ-bar skullcrusher-\"\n",
       " \"Lying Close-Grip Barbell Triceps Press To Chin\"\n",
       " \"EZ-Bar Skullcrusher - Gethin Variation\"\n",
       " \"TBS Skullcrusher\"\n",
       " \"30 Arms EZ-Bar Skullcrusher\""
      ]
     },
     "execution_count": 9,
     "metadata": {},
     "output_type": "execute_result"
    }
   ],
   "source": [
    "using Flux\n",
    "\n",
    "X = last_df.Title  # Exercise names"
   ]
  },
  {
   "cell_type": "code",
   "execution_count": 10,
   "id": "6e959dc4-6dba-4a6f-854a-69bdf8bf8466",
   "metadata": {},
   "outputs": [
    {
     "data": {
      "text/plain": [
       "2909-element PooledArrays.PooledVector{String15, UInt32, Vector{UInt32}}:\n",
       " \"Abdominals\"\n",
       " \"Abdominals\"\n",
       " \"Abdominals\"\n",
       " \"Abdominals\"\n",
       " \"Abdominals\"\n",
       " \"Abdominals\"\n",
       " \"Abdominals\"\n",
       " \"Abdominals\"\n",
       " \"Abdominals\"\n",
       " \"Abdominals\"\n",
       " \"Abdominals\"\n",
       " \"Abdominals\"\n",
       " \"Abdominals\"\n",
       " ⋮\n",
       " \"Triceps\"\n",
       " \"Triceps\"\n",
       " \"Triceps\"\n",
       " \"Triceps\"\n",
       " \"Triceps\"\n",
       " \"Triceps\"\n",
       " \"Triceps\"\n",
       " \"Triceps\"\n",
       " \"Triceps\"\n",
       " \"Triceps\"\n",
       " \"Triceps\"\n",
       " \"Triceps\""
      ]
     },
     "execution_count": 10,
     "metadata": {},
     "output_type": "execute_result"
    }
   ],
   "source": [
    "y = last_df.BodyPart   # Target body parts"
   ]
  },
  {
   "cell_type": "code",
   "execution_count": 11,
   "id": "c58800ff-4fd1-44be-a766-6fd0312fc204",
   "metadata": {},
   "outputs": [
    {
     "data": {
      "text/plain": [
       "2909×2909 Matrix{Float32}:\n",
       " 0.0  0.0  0.0  0.0  0.0  0.0  0.0  0.0  …  0.0  0.0  0.0  0.0  0.0  0.0  0.0\n",
       " 0.0  0.0  0.0  0.0  0.0  0.0  0.0  0.0     0.0  0.0  0.0  0.0  0.0  0.0  0.0\n",
       " 0.0  0.0  0.0  0.0  0.0  0.0  0.0  0.0     0.0  0.0  0.0  0.0  0.0  0.0  0.0\n",
       " 0.0  0.0  0.0  0.0  0.0  0.0  0.0  0.0     0.0  0.0  0.0  0.0  0.0  0.0  0.0\n",
       " 0.0  0.0  0.0  0.0  0.0  0.0  0.0  0.0     0.0  0.0  0.0  0.0  0.0  0.0  0.0\n",
       " 0.0  0.0  0.0  0.0  0.0  0.0  0.0  0.0  …  0.0  0.0  0.0  0.0  0.0  0.0  0.0\n",
       " 0.0  0.0  0.0  0.0  0.0  0.0  0.0  0.0     0.0  0.0  0.0  0.0  0.0  0.0  0.0\n",
       " 0.0  0.0  0.0  0.0  0.0  0.0  0.0  0.0     0.0  0.0  0.0  0.0  0.0  0.0  0.0\n",
       " 0.0  0.0  0.0  0.0  0.0  0.0  0.0  0.0     0.0  0.0  0.0  0.0  0.0  0.0  0.0\n",
       " 0.0  0.0  0.0  0.0  0.0  0.0  0.0  0.0     0.0  0.0  0.0  0.0  0.0  0.0  0.0\n",
       " 0.0  0.0  0.0  0.0  0.0  0.0  0.0  0.0  …  0.0  0.0  0.0  0.0  0.0  0.0  0.0\n",
       " 0.0  0.0  0.0  0.0  0.0  0.0  0.0  0.0     0.0  0.0  0.0  0.0  0.0  0.0  0.0\n",
       " 0.0  0.0  0.0  0.0  0.0  0.0  0.0  0.0     0.0  0.0  0.0  0.0  0.0  0.0  0.0\n",
       " ⋮                        ⋮              ⋱                 ⋮              \n",
       " 0.0  0.0  0.0  0.0  0.0  0.0  0.0  0.0     0.0  0.0  0.0  0.0  0.0  0.0  0.0\n",
       " 0.0  0.0  0.0  0.0  0.0  0.0  0.0  0.0     0.0  0.0  0.0  0.0  0.0  0.0  0.0\n",
       " 0.0  0.0  0.0  0.0  0.0  0.0  0.0  0.0     0.0  0.0  0.0  0.0  0.0  0.0  0.0\n",
       " 0.0  0.0  0.0  0.0  0.0  0.0  0.0  0.0  …  0.0  0.0  0.0  0.0  0.0  0.0  0.0\n",
       " 0.0  0.0  0.0  0.0  0.0  0.0  0.0  0.0     0.0  0.0  0.0  0.0  0.0  0.0  0.0\n",
       " 0.0  0.0  0.0  0.0  0.0  0.0  0.0  0.0     0.0  0.0  0.0  0.0  0.0  0.0  0.0\n",
       " 0.0  0.0  0.0  0.0  0.0  0.0  0.0  0.0     0.0  0.0  0.0  0.0  0.0  0.0  0.0\n",
       " 0.0  0.0  0.0  0.0  0.0  0.0  0.0  0.0     0.0  0.0  0.0  0.0  0.0  0.0  0.0\n",
       " 0.0  0.0  0.0  0.0  0.0  0.0  0.0  0.0  …  0.0  0.0  0.0  0.0  0.0  0.0  0.0\n",
       " 0.0  0.0  0.0  0.0  0.0  0.0  0.0  0.0     0.0  0.0  0.0  0.0  0.0  0.0  0.0\n",
       " 0.0  0.0  0.0  0.0  0.0  0.0  0.0  0.0     0.0  0.0  0.0  0.0  0.0  0.0  0.0\n",
       " 0.0  0.0  0.0  0.0  0.0  0.0  0.0  0.0     0.0  0.0  0.0  0.0  0.0  0.0  0.0"
      ]
     },
     "execution_count": 11,
     "metadata": {},
     "output_type": "execute_result"
    }
   ],
   "source": [
    "# Step 2: Feature Extraction\n",
    "X_encoded = Flux.onehotbatch(X, sort(unique(X))) |> Matrix{Float32}"
   ]
  },
  {
   "cell_type": "code",
   "execution_count": 13,
   "id": "8487ad1c-a06f-40a5-8f81-b15907a0904a",
   "metadata": {},
   "outputs": [
    {
     "data": {
      "text/plain": [
       "582-element Vector{Tuple{SubArray{Float32, 1, Matrix{Float32}, Tuple{Int64, Base.Slice{Base.OneTo{Int64}}}, true}, Int64}}:\n",
       " ([0.0, 0.0, 0.0, 0.0, 0.0, 0.0, 0.0, 0.0, 0.0, 0.0  …  0.0, 0.0, 0.0, 0.0, 0.0, 0.0, 0.0, 0.0, 0.0, 0.0], 13)\n",
       " ([0.0, 0.0, 0.0, 0.0, 0.0, 0.0, 0.0, 0.0, 0.0, 0.0  …  0.0, 0.0, 0.0, 0.0, 0.0, 0.0, 0.0, 0.0, 0.0, 0.0], 1)\n",
       " ([0.0, 0.0, 0.0, 0.0, 0.0, 0.0, 0.0, 0.0, 0.0, 0.0  …  0.0, 0.0, 0.0, 0.0, 0.0, 0.0, 0.0, 0.0, 0.0, 0.0], 15)\n",
       " ([0.0, 0.0, 0.0, 0.0, 0.0, 0.0, 0.0, 0.0, 0.0, 0.0  …  0.0, 0.0, 0.0, 0.0, 0.0, 0.0, 0.0, 0.0, 0.0, 0.0], 2)\n",
       " ([0.0, 0.0, 0.0, 0.0, 0.0, 0.0, 0.0, 0.0, 0.0, 0.0  …  0.0, 0.0, 0.0, 0.0, 0.0, 0.0, 0.0, 0.0, 0.0, 0.0], 15)\n",
       " ([0.0, 0.0, 0.0, 0.0, 0.0, 0.0, 0.0, 0.0, 0.0, 0.0  …  0.0, 0.0, 0.0, 0.0, 0.0, 0.0, 0.0, 0.0, 0.0, 0.0], 12)\n",
       " ([0.0, 0.0, 0.0, 0.0, 0.0, 0.0, 0.0, 0.0, 0.0, 0.0  …  0.0, 0.0, 0.0, 0.0, 0.0, 0.0, 0.0, 0.0, 0.0, 0.0], 4)\n",
       " ([0.0, 0.0, 0.0, 0.0, 0.0, 0.0, 0.0, 0.0, 0.0, 0.0  …  0.0, 0.0, 0.0, 0.0, 0.0, 0.0, 0.0, 0.0, 0.0, 0.0], 10)\n",
       " ([0.0, 0.0, 0.0, 0.0, 0.0, 0.0, 0.0, 0.0, 0.0, 0.0  …  0.0, 0.0, 0.0, 0.0, 0.0, 0.0, 0.0, 0.0, 0.0, 0.0], 8)\n",
       " ([0.0, 0.0, 0.0, 0.0, 0.0, 0.0, 0.0, 0.0, 0.0, 0.0  …  0.0, 0.0, 0.0, 0.0, 0.0, 0.0, 0.0, 0.0, 0.0, 0.0], 8)\n",
       " ([0.0, 0.0, 0.0, 0.0, 0.0, 0.0, 0.0, 0.0, 0.0, 0.0  …  0.0, 0.0, 0.0, 0.0, 0.0, 0.0, 0.0, 0.0, 0.0, 0.0], 10)\n",
       " ([0.0, 0.0, 0.0, 0.0, 0.0, 0.0, 0.0, 0.0, 0.0, 0.0  …  0.0, 0.0, 0.0, 0.0, 0.0, 0.0, 0.0, 0.0, 0.0, 0.0], 1)\n",
       " ([0.0, 0.0, 0.0, 0.0, 0.0, 0.0, 0.0, 0.0, 0.0, 0.0  …  0.0, 0.0, 0.0, 0.0, 0.0, 0.0, 0.0, 0.0, 0.0, 0.0], 1)\n",
       " ⋮\n",
       " ([0.0, 0.0, 0.0, 0.0, 0.0, 0.0, 0.0, 0.0, 0.0, 0.0  …  0.0, 0.0, 0.0, 0.0, 0.0, 0.0, 0.0, 0.0, 0.0, 0.0], 6)\n",
       " ([0.0, 0.0, 0.0, 0.0, 0.0, 0.0, 0.0, 0.0, 0.0, 0.0  …  0.0, 0.0, 0.0, 0.0, 0.0, 0.0, 0.0, 0.0, 0.0, 0.0], 1)\n",
       " ([0.0, 0.0, 0.0, 0.0, 0.0, 0.0, 0.0, 0.0, 0.0, 0.0  …  0.0, 0.0, 0.0, 0.0, 0.0, 0.0, 0.0, 0.0, 0.0, 0.0], 7)\n",
       " ([0.0, 0.0, 0.0, 0.0, 0.0, 0.0, 0.0, 0.0, 0.0, 0.0  …  0.0, 0.0, 0.0, 0.0, 0.0, 0.0, 0.0, 0.0, 0.0, 0.0], 1)\n",
       " ([0.0, 0.0, 0.0, 0.0, 0.0, 0.0, 0.0, 0.0, 0.0, 0.0  …  0.0, 0.0, 0.0, 0.0, 0.0, 0.0, 0.0, 0.0, 0.0, 0.0], 6)\n",
       " ([0.0, 0.0, 0.0, 0.0, 0.0, 0.0, 0.0, 0.0, 0.0, 0.0  …  0.0, 0.0, 0.0, 0.0, 0.0, 0.0, 0.0, 0.0, 0.0, 0.0], 1)\n",
       " ([0.0, 0.0, 0.0, 0.0, 0.0, 0.0, 0.0, 0.0, 0.0, 0.0  …  0.0, 0.0, 0.0, 0.0, 0.0, 0.0, 0.0, 0.0, 0.0, 0.0], 1)\n",
       " ([0.0, 0.0, 0.0, 0.0, 0.0, 0.0, 0.0, 0.0, 0.0, 0.0  …  0.0, 0.0, 0.0, 0.0, 0.0, 0.0, 0.0, 0.0, 0.0, 0.0], 1)\n",
       " ([0.0, 0.0, 0.0, 0.0, 0.0, 0.0, 0.0, 0.0, 0.0, 0.0  …  0.0, 0.0, 0.0, 0.0, 0.0, 0.0, 0.0, 0.0, 0.0, 0.0], 15)\n",
       " ([0.0, 0.0, 0.0, 0.0, 0.0, 0.0, 0.0, 0.0, 0.0, 0.0  …  0.0, 0.0, 0.0, 0.0, 0.0, 0.0, 0.0, 0.0, 0.0, 0.0], 1)\n",
       " ([0.0, 0.0, 0.0, 0.0, 0.0, 0.0, 0.0, 0.0, 0.0, 0.0  …  0.0, 0.0, 0.0, 0.0, 0.0, 0.0, 0.0, 0.0, 0.0, 0.0], 15)\n",
       " ([0.0, 0.0, 0.0, 0.0, 0.0, 0.0, 0.0, 0.0, 0.0, 0.0  …  0.0, 0.0, 0.0, 0.0, 0.0, 0.0, 0.0, 0.0, 0.0, 0.0], 16)"
      ]
     },
     "execution_count": 13,
     "metadata": {},
     "output_type": "execute_result"
    }
   ],
   "source": [
    "# Encode target labels as integers\n",
    "label_mapping = Dict(unique(y) .=> 1:length(unique(y)))\n",
    "y_encoded = [label_mapping[label] for label in y] # Step 3: Model Training\n",
    "# Split the data into training and testing sets\n",
    "data = [(x, y) for (x, y) in zip(eachrow(X_encoded), y_encoded)] \n",
    "\n",
    "using Random\n",
    "\n",
    "# Shuffle the data randomly\n",
    "shuffled_data = shuffle(data)\n",
    "\n",
    "# Define the desired train-test split ratio\n",
    "train_ratio = 0.8\n",
    "\n",
    "# Calculate the sizes of the training and test sets\n",
    "train_size = Int(round(length(shuffled_data) * train_ratio))\n",
    "test_size = length(shuffled_data) - train_size\n",
    "\n",
    "# Split the data into training and test sets\n",
    "train_data = shuffled_data[1:train_size]\n",
    "test_data = shuffled_data[train_size+1:end]"
   ]
  },
  {
   "cell_type": "code",
   "execution_count": 14,
   "id": "6fbb1445-7f61-49a9-b2ec-e2ae8478e09b",
   "metadata": {},
   "outputs": [
    {
     "data": {
      "text/plain": [
       "Chain(\n",
       "  Dense(2909 => 64, relu),              \u001b[90m# 186_240 parameters\u001b[39m\n",
       "  Dense(64 => 32, relu),                \u001b[90m# 2_080 parameters\u001b[39m\n",
       "  Dense(32 => 17),                      \u001b[90m# 561 parameters\u001b[39m\n",
       ") \u001b[90m                  # Total: 6 arrays, \u001b[39m188_881 parameters, 738.191 KiB."
      ]
     },
     "execution_count": 14,
     "metadata": {},
     "output_type": "execute_result"
    }
   ],
   "source": [
    "# Define the model architecture\n",
    "input_size = size(X_encoded, 2)\n",
    "model = Chain(\n",
    "    Dense(input_size, 64, relu),\n",
    "    Dense(64, 32, relu),\n",
    "    Dense(32, length(label_mapping))\n",
    ")"
   ]
  },
  {
   "cell_type": "code",
   "execution_count": 15,
   "id": "f9c195a7-dd28-4fc7-9013-f880591ab866",
   "metadata": {},
   "outputs": [
    {
     "data": {
      "text/plain": [
       "Adam(0.001, (0.9, 0.999), 1.0e-8, IdDict{Any, Any}())"
      ]
     },
     "execution_count": 15,
     "metadata": {},
     "output_type": "execute_result"
    }
   ],
   "source": [
    " # Define the loss function\n",
    "loss(x, y) = Flux.crossentropy(softmax(model(x)), Flux.onehotbatch(y, 1:length(label_mapping)))\n",
    "# Define the optimizer\n",
    "optimizer = Flux.ADAM()"
   ]
  },
  {
   "cell_type": "code",
   "execution_count": 16,
   "id": "5af57f22-3e66-4e96-97f4-98ee0e757515",
   "metadata": {},
   "outputs": [],
   "source": [
    "# Train the model\n",
    "for epoch in 1:10\n",
    "    Flux.train!(loss, Flux.params(model), train_data, optimizer)\n",
    "end"
   ]
  },
  {
   "cell_type": "code",
   "execution_count": 17,
   "id": "5f821022-1795-41da-8015-2a14e3ea9d38",
   "metadata": {},
   "outputs": [
    {
     "name": "stdout",
     "output_type": "stream",
     "text": [
      "Accuracy: 1.0\n"
     ]
    }
   ],
   "source": [
    "# Step 4: Model Evaluation\n",
    "# Make predictions on the test set\n",
    "X_test = [x for (x, _) in test_data]\n",
    "y_test = [y for (_, y) in test_data]\n",
    "y_pred = Flux.argmax(model.(X_test), dims=2)\n",
    "# Calculate accuracy\n",
    "accuracy = sum(y_pred .== reshape(y_test, :)') / length(y_test)\n",
    "\n",
    "println(\"Accuracy: $accuracy\")"
   ]
  },
  {
   "cell_type": "code",
   "execution_count": 18,
   "id": "f6244796-f7f5-4ca6-868b-3dd311c04e23",
   "metadata": {},
   "outputs": [
    {
     "ename": "LoadError",
     "evalue": "Value Band low-to-high twist not found in labels",
     "output_type": "error",
     "traceback": [
      "Value Band low-to-high twist not found in labels",
      "",
      "Stacktrace:",
      " [1] error(s::String)",
      "   @ Base .\\error.jl:35",
      " [2] _onehotbatch(data::Vector{String}, labels::Tuple{Float32, Float32})",
      "   @ OneHotArrays C:\\Users\\LENOVO\\.julia\\packages\\OneHotArrays\\T3yiq\\src\\onehot.jl:90",
      " [3] onehotbatch(::Vector{String}, ::Vector{Float32})",
      "   @ OneHotArrays C:\\Users\\LENOVO\\.julia\\packages\\OneHotArrays\\T3yiq\\src\\onehot.jl:84",
      " [4] top-level scope",
      "   @ In[18]:2"
     ]
    }
   ],
   "source": [
    "exercise_name = \"Band low-to-high twist\" # Example exercise name for prediction\n",
    "exercise_encoded = Flux.onehotbatch([exercise_name], sort(unique(X_encoded))) |> Matrix{Float32}\n",
    "predicted_body_part = Flux.argmax(model(exercise_encoded), dims=2)[1]\n",
    "\n",
    "inverse_label_mapping = Dict(value => key for (key, value) in label_mapping)\n",
    "predicted_body_part_label = inverse_label_mapping[predicted_body_part]\n",
    "\n",
    "println(\"Predicted body part: $predicted_body_part_label\")\n"
   ]
  },
  {
   "cell_type": "code",
   "execution_count": null,
   "id": "d0656d29-d9b9-4ce9-b9c4-dab248e1205d",
   "metadata": {},
   "outputs": [],
   "source": [
    "\n"
   ]
  },
  {
   "cell_type": "code",
   "execution_count": null,
   "id": "2aedbaca-b983-4094-8c67-8c51d629a248",
   "metadata": {},
   "outputs": [],
   "source": []
  },
  {
   "cell_type": "code",
   "execution_count": null,
   "id": "19a27a48-7a9d-4354-abd3-dd48bf464354",
   "metadata": {},
   "outputs": [],
   "source": []
  }
 ],
 "metadata": {
  "kernelspec": {
   "display_name": "Julia 1.8.5",
   "language": "julia",
   "name": "julia-1.8"
  },
  "language_info": {
   "file_extension": ".jl",
   "mimetype": "application/julia",
   "name": "julia",
   "version": "1.8.5"
  }
 },
 "nbformat": 4,
 "nbformat_minor": 5
}
